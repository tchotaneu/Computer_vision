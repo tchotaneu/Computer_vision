{
  "nbformat": 4,
  "nbformat_minor": 0,
  "metadata": {
    "colab": {
      "provenance": [],
      "authorship_tag": "ABX9TyNTJZNtsEDlemqyVHVjnJ8G",
      "include_colab_link": true
    },
    "kernelspec": {
      "name": "python3",
      "display_name": "Python 3"
    },
    "language_info": {
      "name": "python"
    }
  },
  "cells": [
    {
      "cell_type": "markdown",
      "metadata": {
        "id": "view-in-github",
        "colab_type": "text"
      },
      "source": [
        "<a href=\"https://colab.research.google.com/github/tchotaneu/Computer_vision/blob/main/car_detector.ipynb\" target=\"_parent\"><img src=\"https://colab.research.google.com/assets/colab-badge.svg\" alt=\"Open In Colab\"/></a>"
      ]
    },
    {
      "cell_type": "code",
      "execution_count": null,
      "metadata": {
        "id": "qiGDFslKFRSc"
      },
      "outputs": [],
      "source": [
        "import cv2\n",
        "import numpy as np\n",
        "\n",
        "object_cascade=cv2.CascadeClassifier(\"cars.xml\")\n",
        "cap=cv2.VideoCapture('cars.mp4')\n",
        "\n",
        "while True:\n",
        "    ret, frame=cap.read()\n",
        "    tickmark=cv2.getTickCount()\n",
        "    gray=cv2.cvtColor(frame, cv2.COLOR_BGR2GRAY)\n",
        "    object=object_cascade.detectMultiScale(gray, scaleFactor=1.10, minNeighbors=3)\n",
        "    for x, y, w, h in object:\n",
        "        cv2.rectangle(frame, (x, y), (x+w, y+h), (255, 0, 0), 2)\n",
        "    fps=cv2.getTickFrequency()/(cv2.getTickCount()-tickmark)\n",
        "    cv2.putText(frame, \"FPS: {:05.2f}\".format(fps), (10, 30), cv2.FONT_HERSHEY_PLAIN, 2, (255, 0, 0), 2)\n",
        "    cv2.imshow('video', frame)\n",
        "    if cv2.waitKey(1)&0xFF==ord('q'):\n",
        "        break\n",
        "cap.release()\n",
        "cv2.destroyAllWindows()\n"
      ]
    }
  ]
}