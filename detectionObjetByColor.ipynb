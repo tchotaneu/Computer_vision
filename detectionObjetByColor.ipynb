{
  "nbformat": 4,
  "nbformat_minor": 0,
  "metadata": {
    "colab": {
      "provenance": [],
      "collapsed_sections": [],
      "authorship_tag": "ABX9TyPMfN8EJpmqVtCm0GIF92eQ",
      "include_colab_link": true
    },
    "kernelspec": {
      "name": "python3",
      "display_name": "Python 3"
    },
    "language_info": {
      "name": "python"
    }
  },
  "cells": [
    {
      "cell_type": "markdown",
      "metadata": {
        "id": "view-in-github",
        "colab_type": "text"
      },
      "source": [
        "<a href=\"https://colab.research.google.com/github/tchotaneu/Computer_vision/blob/main/detectionObjetByColor.ipynb\" target=\"_parent\"><img src=\"https://colab.research.google.com/assets/colab-badge.svg\" alt=\"Open In Colab\"/></a>"
      ]
    },
    {
      "cell_type": "code",
      "execution_count": null,
      "metadata": {
        "id": "3p3tv4p27sHp"
      },
      "outputs": [],
      "source": [
        "import cv2\n",
        "import numpy as np\n",
        "\n",
        "lo=np.array([95, 100, 50])# les valeurs  minimale de la couleur a detecter \n",
        "hi=np.array([105, 255, 255])# valeur maximale de la couleur à detecter \n",
        "color_infos=(0, 255, 255)#  mise en valeur du canal \n",
        "cap=cv2.VideoCapture(0)\n",
        "\n",
        "while True:\n",
        "    ret, frame=cap.read()\n",
        "    image=cv2.cvtColor(frame, cv2.COLOR_BGR2HSV)\n",
        "    mask=cv2.inRange(image, lo, hi)\n",
        "    image=cv2.blur(image, (7, 7))\n",
        "    mask=cv2.erode(mask, None, iterations=4)\n",
        "    mask=cv2.dilate(mask, None, iterations=4)\n",
        "    image2=cv2.bitwise_and(frame, frame, mask=mask)\n",
        "    elements=cv2.findContours(mask, cv2.RETR_EXTERNAL, cv2.CHAIN_APPROX_SIMPLE)[-2]\n",
        "    if len(elements) > 0:\n",
        "        c=max(elements, key=cv2.contourArea)\n",
        "        ((x, y), rayon)=cv2.minEnclosingCircle(c)\n",
        "        if rayon>30:\n",
        "            cv2.circle(image2, (int(x), int(y)), int(rayon), color_infos, 2)\n",
        "            cv2.circle(frame, (int(x), int(y)), 5, color_infos, 10)\n",
        "            cv2.line(frame, (int(x), int(y)), (int(x)+150, int(y)), color_infos, 2)\n",
        "            cv2.putText(frame, \"ma petite boite bleu \", (int(x)+10, int(y) -10), cv2.FONT_HERSHEY_DUPLEX, 1, color_infos, 1, cv2.LINE_AA)\n",
        "    cv2.imshow('Camera', frame)\n",
        "    cv2.imshow('image2', image2)\n",
        "    cv2.imshow('Mask', mask)\n",
        "    if cv2.waitKey(1)&0xFF==ord('q'):\n",
        "        break\n",
        "cap.release()\n",
        "cv2.destroyAllWindows()"
      ]
    }
  ]
}